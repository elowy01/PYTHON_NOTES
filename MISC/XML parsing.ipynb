{
 "cells": [
  {
   "cell_type": "markdown",
   "metadata": {},
   "source": [
    "# XML parsing\n",
    "This document describes how to parse a XML file in Python. There are several ways to do it in Python, but I will describe here the different libraries I have experience with.  \n",
    "Throughout this document, I will use the following XML that can be found at [https://www.w3schools.com/xml/xml_tree.asp]"
   ]
  },
  {
   "cell_type": "raw",
   "metadata": {},
   "source": [
    "<?xml version=\"1.0\" encoding=\"UTF-8\"?>\n",
    "<bookstore>\n",
    "  <book category=\"cooking\">\n",
    "    <title lang=\"en\">Everyday Italian</title>\n",
    "    <author>Giada De Laurentiis</author>\n",
    "    <year>2005</year>\n",
    "    <price>30.00</price>\n",
    "  </book>\n",
    "  <book category=\"children\">\n",
    "    <title lang=\"en\">Harry Potter</title>\n",
    "    <author>J K. Rowling</author>\n",
    "    <year>2005</year>\n",
    "    <price>29.99</price>\n",
    "  </book>\n",
    "  <book category=\"web\">\n",
    "    <title lang=\"en\">Learning XML</title>\n",
    "    <author>Erik T. Ray</author>\n",
    "    <year>2003</year>\n",
    "    <price>39.95</price>\n",
    "  </book>\n",
    "</bookstore>"
   ]
  },
  {
   "cell_type": "markdown",
   "metadata": {},
   "source": [
    "## xmltodict\n",
    "This is a library created by [Rahul Kumar](mailto:rahul@thoughtnirvana.com) that can be found at https://pypi.org/project/xmldict/"
   ]
  },
  {
   "cell_type": "markdown",
   "metadata": {},
   "source": [
    "First, install this library by using `pip`:  \n",
    "`pip install xmltodict`"
   ]
  },
  {
   "cell_type": "markdown",
   "metadata": {},
   "source": [
    "Now, let's read-in the xml showed above from a file"
   ]
  },
  {
   "cell_type": "raw",
   "metadata": {},
   "source": [
    "import xmltodict\n",
    "\n",
    "with open('test.xml') as fd:\n",
    "    doc = xmltodict.parse(fd.read())"
   ]
  },
  {
   "cell_type": "markdown",
   "metadata": {},
   "source": [
    "Now, if we want to parse the xml we can do:"
   ]
  },
  {
   "cell_type": "raw",
   "metadata": {},
   "source": [
    "print(doc['bookstore']['book'][0]['@category']) # accessing the 'category' attribute from the first book element\n",
    "print(doc['bookstore']['book'][0]['author']) # accessing the 'author' element from first book\n",
    "print(doc['bookstore']['book'][0]['title']['@lang']) # accessing the 'lang' attribute from title's element"
   ]
  },
  {
   "cell_type": "markdown",
   "metadata": {},
   "source": [
    "We can also iterate on each of the books:"
   ]
  },
  {
   "cell_type": "raw",
   "metadata": {},
   "source": [
    "for abook in doc['bookstore']['book']:\n",
    "    print(abook['author'])"
   ]
  },
  {
   "cell_type": "markdown",
   "metadata": {},
   "source": [
    "This will print out:"
   ]
  },
  {
   "cell_type": "raw",
   "metadata": {},
   "source": [
    "Giada De Laurentiis\n",
    "J K. Rowling\n",
    "Erik T. Ray"
   ]
  },
  {
   "cell_type": "markdown",
   "metadata": {},
   "source": [
    "Apart from parsing a xml file, it is also interesting to modify the original xml in order to create a new xml file.  \n",
    "Let's replace one of the books in the original xml by a different one and write the modified xml to a new file:"
   ]
  },
  {
   "cell_type": "raw",
   "metadata": {},
   "source": [
    "import xmltodict\n",
    "\n",
    "with open('test.xml') as fd:\n",
    "    doc = xmltodict.parse(fd.read())\n",
    "    doc['bookstore']['book'][0]['@category']=\"terror\"\n",
    "    doc['bookstore']['book'][0]['title']='It'\n",
    "    doc['bookstore']['book'][0]['author']=\"Stephen King\"\n",
    "    doc['bookstore']['book'][0]['year']=1986\n",
    "out = xmltodict.unparse(doc, pretty=True)\n",
    "\n",
    "with open(\"new.xml\", 'w') as file:\n",
    "    file.write(out)"
   ]
  },
  {
   "cell_type": "markdown",
   "metadata": {},
   "source": [
    "We can also add a new book to the xml:"
   ]
  },
  {
   "cell_type": "raw",
   "metadata": {},
   "source": [
    "import xmltodict\n",
    "\n",
    "with open('test.xml') as fd:\n",
    "    doc = xmltodict.parse(fd.read())\n",
    "    doc['bookstore']['book'].append(\n",
    "        {\n",
    "            'title': 'One Hundred Years of Solitude',\n",
    "            'author': 'Gabriel García Márquez',\n",
    "            'year': 1967,\n",
    "            'price':40.00\n",
    "            })\n",
    "\n",
    "out = xmltodict.unparse(doc, pretty=True)\n",
    "\n",
    "with open(\"new.xml\", 'w') as file:\n",
    "    file.write(out)"
   ]
  }
 ],
 "metadata": {
  "kernelspec": {
   "display_name": "Python 3",
   "language": "python",
   "name": "python3"
  },
  "language_info": {
   "codemirror_mode": {
    "name": "ipython",
    "version": 3
   },
   "file_extension": ".py",
   "mimetype": "text/x-python",
   "name": "python",
   "nbconvert_exporter": "python",
   "pygments_lexer": "ipython3",
   "version": "3.5.3"
  },
  "toc": {
   "nav_menu": {},
   "number_sections": true,
   "sideBar": true,
   "skip_h1_title": false,
   "title_cell": "Table of Contents",
   "title_sidebar": "Contents",
   "toc_cell": false,
   "toc_position": {},
   "toc_section_display": true,
   "toc_window_display": false
  }
 },
 "nbformat": 4,
 "nbformat_minor": 2
}
