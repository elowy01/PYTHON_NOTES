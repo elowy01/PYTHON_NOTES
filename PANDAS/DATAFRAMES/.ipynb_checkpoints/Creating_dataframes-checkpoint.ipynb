{
 "cells": [
  {
   "cell_type": "markdown",
   "metadata": {},
   "source": [
    "### From a .csv file\n",
    "In the following examples, I am going to use a .csv file named `backtesting.csv` from a FOREX project I've been working with and I am going to create a dataframe from it using Pandas `read_csv` method:"
   ]
  },
  {
   "cell_type": "code",
   "execution_count": 4,
   "metadata": {},
   "outputs": [],
   "source": [
    "import pandas as pd\n",
    "import numpy as np\n",
    "\n",
    "%matplotlib inline\n",
    "\n",
    "# read-in the data frame from csv file\n",
    "DF=pd.read_csv('../DATA/backtesting.csv')\n",
    "\n",
    "#read-in the data frame and set the columns data types at the same time\n",
    "DF=pd.read_csv('../DATA/backtesting.csv',dtype={'RSI': np.float64, 'Number of bounces': np.int64})"
   ]
  },
  {
   "cell_type": "markdown",
   "metadata": {},
   "source": [
    "Also, if the dataframe starts with a commented line we can skip it by doing:"
   ]
  },
  {
   "cell_type": "code",
   "execution_count": 5,
   "metadata": {},
   "outputs": [],
   "source": [
    "DFtest1=pd.read_csv('../DATA/backtesting.csv',comment='#')"
   ]
  },
  {
   "cell_type": "markdown",
   "metadata": {},
   "source": [
    "Now, if we want also to add some column names:"
   ]
  },
  {
   "cell_type": "code",
   "execution_count": 6,
   "metadata": {},
   "outputs": [],
   "source": [
    "DFtest2=pd.read_csv('../DATA/backtesting.csv',comment='#',names=['colname1','colname2'])"
   ]
  },
  {
   "cell_type": "markdown",
   "metadata": {},
   "source": [
    "read_csv allows also to read certain columns from the file"
   ]
  },
  {
   "cell_type": "code",
   "execution_count": 7,
   "metadata": {},
   "outputs": [],
   "source": [
    "DFtest3=pd.read_csv(\"../DATA/backtesting.csv\", usecols=[2]) # usecols works with 0-indexed columns"
   ]
  },
  {
   "cell_type": "markdown",
   "metadata": {},
   "source": [
    "When can also use a certain column as the index:"
   ]
  },
  {
   "cell_type": "code",
   "execution_count": 8,
   "metadata": {},
   "outputs": [],
   "source": [
    "DFtest4=pd.read_csv(\"../DATA/backtesting.csv\", index_col=0) #in this case we use the first column"
   ]
  },
  {
   "cell_type": "markdown",
   "metadata": {},
   "source": [
    "Specifying the first line as the header"
   ]
  },
  {
   "cell_type": "code",
   "execution_count": 9,
   "metadata": {},
   "outputs": [],
   "source": [
    "DFtest4=pd.read_csv(\"../DATA/backtesting.csv\", header=0) "
   ]
  },
  {
   "cell_type": "markdown",
   "metadata": {},
   "source": [
    "Now, read a gzip compressed file"
   ]
  },
  {
   "cell_type": "markdown",
   "metadata": {},
   "source": [
    "DFtest4=pd.read_csv(\"../DATA/backtesting.csv.gz\", compression='gzip', header=0) "
   ]
  },
  {
   "cell_type": "markdown",
   "metadata": {},
   "source": [
    "### Creating a dataframe from a dictionary"
   ]
  },
  {
   "cell_type": "code",
   "execution_count": null,
   "metadata": {},
   "outputs": [],
   "source": [
    "d = {'col1': [1, 2, 3], 'col2': [3, 4, 5]}\n",
    "# df = pd.DataFrame(data=d)"
   ]
  },
  {
   "cell_type": "markdown",
   "metadata": {},
   "source": [
    "### Create DataFrame from Dictionary with different Orientation"
   ]
  },
  {
   "cell_type": "code",
   "execution_count": 11,
   "metadata": {},
   "outputs": [],
   "source": [
    "studentData = {\n",
    "    'name' : ['jack', 'Riti', 'Aadi'],\n",
    "    'age' : [34, 30, 16],\n",
    "    'city' : ['Sydney', 'Delhi', 'New york']\n",
    "}\n"
   ]
  },
  {
   "cell_type": "code",
   "execution_count": 12,
   "metadata": {},
   "outputs": [
    {
     "name": "stdout",
     "output_type": "stream",
     "text": [
      "   name  age      city\n",
      "0  jack   34    Sydney\n",
      "1  Riti   30     Delhi\n",
      "2  Aadi   16  New york\n"
     ]
    }
   ],
   "source": [
    "# by default, orient will be columns, where keys of dict will be in the columns\n",
    "dfObj = pd.DataFrame.from_dict(studentData, orient='columns')\n",
    "print(dfObj)"
   ]
  },
  {
   "cell_type": "markdown",
   "metadata": {},
   "source": [
    "If we want to change the orientation and make the keys to be in the index, we use:"
   ]
  },
  {
   "cell_type": "code",
   "execution_count": 13,
   "metadata": {},
   "outputs": [
    {
     "name": "stdout",
     "output_type": "stream",
     "text": [
      "           0      1         2\n",
      "name    jack   Riti      Aadi\n",
      "age       34     30        16\n",
      "city  Sydney  Delhi  New york\n"
     ]
    }
   ],
   "source": [
    "dfObj = pd.DataFrame.from_dict(studentData, orient='index')\n",
    "print(dfObj)"
   ]
  },
  {
   "cell_type": "markdown",
   "metadata": {},
   "source": [
    "### Create DataFrame from Excel spreadsheet  (.xlsx file)"
   ]
  },
  {
   "cell_type": "markdown",
   "metadata": {},
   "source": [
    "import pandas as pd\n",
    "\n",
    "#read-in the 'trading_journal' worksheet from a .xlsx file into a pandas dataframe\n",
    "xls_file = pd.ExcelFile(url)\n",
    "df = xls_file.parse(worksheet, converters={'start': str, 'end': str, 'trend_i': str})"
   ]
  }
 ],
 "metadata": {
  "kernelspec": {
   "display_name": "Python 3",
   "language": "python",
   "name": "python3"
  },
  "language_info": {
   "codemirror_mode": {
    "name": "ipython",
    "version": 3
   },
   "file_extension": ".py",
   "mimetype": "text/x-python",
   "name": "python",
   "nbconvert_exporter": "python",
   "pygments_lexer": "ipython3",
   "version": "3.7.4"
  },
  "toc": {
   "nav_menu": {},
   "number_sections": true,
   "sideBar": true,
   "skip_h1_title": false,
   "title_cell": "Table of Contents",
   "title_sidebar": "Contents",
   "toc_cell": false,
   "toc_position": {},
   "toc_section_display": true,
   "toc_window_display": false
  }
 },
 "nbformat": 4,
 "nbformat_minor": 2
}
