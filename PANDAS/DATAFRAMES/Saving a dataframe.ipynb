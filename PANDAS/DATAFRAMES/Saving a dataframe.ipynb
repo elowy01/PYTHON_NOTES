{
 "cells": [
  {
   "cell_type": "markdown",
   "metadata": {},
   "source": [
    "## Saving or Writing a dataframe\n",
    "Saving a dataframe in .tsv format:"
   ]
  },
  {
   "cell_type": "code",
   "execution_count": 128,
   "metadata": {},
   "outputs": [],
   "source": [
    "DF.to_csv('newDF.tsv',sep='\\t')"
   ]
  },
  {
   "cell_type": "markdown",
   "metadata": {},
   "source": [
    "## Pretty printint a dataframe"
   ]
  },
  {
   "cell_type": "code",
   "execution_count": 2,
   "metadata": {},
   "outputs": [
    {
     "name": "stdout",
     "output_type": "stream",
     "text": [
      "+----+-----------+-------------+\n",
      "|    |   col_two | column_3    |\n",
      "|----+-----------+-------------|\n",
      "|  0 |    0.0001 | ABCD        |\n",
      "|  1 |    1e-05  | ABCD        |\n",
      "|  2 |    1e-06  | long string |\n",
      "|  3 |    1e-07  | ABCD        |\n",
      "+----+-----------+-------------+\n"
     ]
    }
   ],
   "source": [
    "from tabulate import tabulate\n",
    "import pandas as pd\n",
    "\n",
    "df = pd.DataFrame({'col_two' : [0.0001, 1e-005 , 1e-006, 1e-007],\n",
    "                   'column_3' : ['ABCD', 'ABCD', 'long string', 'ABCD']})\n",
    "print(tabulate(df, headers='keys', tablefmt='psql'))"
   ]
  }
 ],
 "metadata": {
  "kernelspec": {
   "display_name": "Python 3",
   "language": "python",
   "name": "python3"
  },
  "language_info": {
   "codemirror_mode": {
    "name": "ipython",
    "version": 3
   },
   "file_extension": ".py",
   "mimetype": "text/x-python",
   "name": "python",
   "nbconvert_exporter": "python",
   "pygments_lexer": "ipython3",
   "version": "3.7.4"
  },
  "toc": {
   "nav_menu": {},
   "number_sections": true,
   "sideBar": true,
   "skip_h1_title": false,
   "title_cell": "Table of Contents",
   "title_sidebar": "Contents",
   "toc_cell": false,
   "toc_position": {},
   "toc_section_display": true,
   "toc_window_display": false
  }
 },
 "nbformat": 4,
 "nbformat_minor": 2
}
