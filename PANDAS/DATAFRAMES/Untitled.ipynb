{
 "cells": [
  {
   "cell_type": "code",
   "execution_count": 13,
   "metadata": {},
   "outputs": [
    {
     "name": "stdout",
     "output_type": "stream",
     "text": [
      "Low cov mean: 6.170789321617536\n",
      "Ex cov mean: 84.90390743955165\n"
     ]
    }
   ],
   "source": [
    "import pandas as pd\n",
    "\n",
    "low_cov=pd.read_csv('/Users/ernesto/SCRATCH/28_11_2018/low_cov.meancov.txt',sep=\"\\t\")\n",
    "ex_cov=pd.read_csv('/Users/ernesto/SCRATCH/28_11_2018/ex_cov.meancov.txt',sep=\"\\t\")\n",
    "print(\"Low cov mean: {0}\".format(low_cov.attribute_value.mean()))\n",
    "print(\"Ex cov mean: {0}\".format(ex_cov.attribute_value.mean()))"
   ]
  },
  {
   "cell_type": "code",
   "execution_count": null,
   "metadata": {},
   "outputs": [],
   "source": []
  },
  {
   "cell_type": "code",
   "execution_count": null,
   "metadata": {},
   "outputs": [],
   "source": []
  },
  {
   "cell_type": "code",
   "execution_count": null,
   "metadata": {},
   "outputs": [],
   "source": []
  }
 ],
 "metadata": {
  "kernelspec": {
   "display_name": "Python 3",
   "language": "python",
   "name": "python3"
  },
  "language_info": {
   "codemirror_mode": {
    "name": "ipython",
    "version": 3
   },
   "file_extension": ".py",
   "mimetype": "text/x-python",
   "name": "python",
   "nbconvert_exporter": "python",
   "pygments_lexer": "ipython3",
   "version": "3.5.3"
  },
  "toc": {
   "nav_menu": {},
   "number_sections": true,
   "sideBar": true,
   "skip_h1_title": false,
   "title_cell": "Table of Contents",
   "title_sidebar": "Contents",
   "toc_cell": false,
   "toc_position": {},
   "toc_section_display": true,
   "toc_window_display": false
  }
 },
 "nbformat": 4,
 "nbformat_minor": 2
}
