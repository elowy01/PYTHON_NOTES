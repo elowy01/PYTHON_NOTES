{
 "cells": [
  {
   "cell_type": "markdown",
   "metadata": {},
   "source": [
    "# Recursive Feature Elimination (RFE)\n",
    "This procedure is used to eliminate predictors (or dependent variables) that will not have influence on the outcome of a classifier. It works by recursively removing features from a model and estimating the model accuracy with the remaining features.\n",
    "\n",
    "In order to illustrate how it works, I will use the function `make_classification` from sklearn.datasets in order to create a binary classification problem. In this case I will create a dataset with 4 predictors, two of which will not be informative and will be discarded by RFE"
   ]
  },
  {
   "cell_type": "code",
   "execution_count": 1,
   "metadata": {},
   "outputs": [],
   "source": [
    "from sklearn.datasets import make_classification\n",
    "X, y = make_classification(n_samples=5000, n_features=4, n_informative=2,\n",
    "                           n_redundant=2, n_repeated=0, n_classes=2,\n",
    "                           n_clusters_per_class=1,\n",
    "                           random_state=0)"
   ]
  },
  {
   "cell_type": "code",
   "execution_count": 3,
   "metadata": {},
   "outputs": [],
   "source": [
    "from sklearn.feature_selection import RFE\n",
    "from sklearn.linear_model import LogisticRegression\n",
    "\n",
    "# I will create the RFE model for the logistic regression classifier\n",
    "logreg = LogisticRegression()\n",
    "\n",
    "# In this case, we will select 2 features\n",
    "rfe = RFE(logreg, 2)"
   ]
  },
  {
   "cell_type": "code",
   "execution_count": 4,
   "metadata": {},
   "outputs": [],
   "source": [
    "rfe = rfe.fit(X, y)"
   ]
  },
  {
   "cell_type": "code",
   "execution_count": 5,
   "metadata": {},
   "outputs": [
    {
     "name": "stdout",
     "output_type": "stream",
     "text": [
      "[ True  True False False]\n",
      "[1 1 3 2]\n"
     ]
    }
   ],
   "source": [
    "# print summaries for the selection of attributes\n",
    "print(rfe.support_)\n",
    "print(rfe.ranking_)"
   ]
  },
  {
   "cell_type": "markdown",
   "metadata": {},
   "source": [
    "The information returned by `rfe.support_` indicates what predictors were selected (TRUE) or discarded by RFE. In this case only the first 2 features were selected.  \n",
    "`rfe.ranking` returns information on the orden of selection of the features, being the first and second features the first 2 followed by the 4th and finally the 3rd feature."
   ]
  }
 ],
 "metadata": {
  "kernelspec": {
   "display_name": "Python 3",
   "language": "python",
   "name": "python3"
  },
  "language_info": {
   "codemirror_mode": {
    "name": "ipython",
    "version": 3
   },
   "file_extension": ".py",
   "mimetype": "text/x-python",
   "name": "python",
   "nbconvert_exporter": "python",
   "pygments_lexer": "ipython3",
   "version": "3.5.3"
  },
  "toc": {
   "nav_menu": {},
   "number_sections": true,
   "sideBar": true,
   "skip_h1_title": false,
   "title_cell": "Table of Contents",
   "title_sidebar": "Contents",
   "toc_cell": false,
   "toc_position": {},
   "toc_section_display": true,
   "toc_window_display": false
  }
 },
 "nbformat": 4,
 "nbformat_minor": 2
}
