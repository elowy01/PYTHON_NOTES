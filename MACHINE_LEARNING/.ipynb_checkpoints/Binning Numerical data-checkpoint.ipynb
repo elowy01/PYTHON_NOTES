{
 "cells": [
  {
   "cell_type": "markdown",
   "metadata": {},
   "source": [
    "# What is this?\n",
    "This NB is on binning (or bucketing) numerical data into categories. This NB is inspired by the useful information from http://benalexkeen.com/bucketing-continuous-variables-in-pandas/\n",
    "\n",
    "# An example"
   ]
  },
  {
   "cell_type": "markdown",
   "metadata": {},
   "source": [
    "Let's create a dataframe with data:"
   ]
  },
  {
   "cell_type": "code",
   "execution_count": 23,
   "metadata": {},
   "outputs": [],
   "source": [
    "import pandas as pd\n",
    "import numpy as np\n",
    "\n",
    "%matplotlib inline\n",
    "\n",
    "np.random.seed(10)\n",
    "df = pd.DataFrame({\n",
    "    'normal': np.random.normal(10, 3, 1000),\n",
    "})"
   ]
  },
  {
   "cell_type": "markdown",
   "metadata": {},
   "source": [
    "Let's use the `pd.cut` function to bin the data into 6 different categories and then add an aditional column (`normal_cat`) with this binned data:"
   ]
  },
  {
   "cell_type": "code",
   "execution_count": 24,
   "metadata": {},
   "outputs": [],
   "source": [
    "df['normal_cat']=pd.cut(df['normal'], 6)"
   ]
  },
  {
   "cell_type": "code",
   "execution_count": 25,
   "metadata": {},
   "outputs": [
    {
     "name": "stdout",
     "output_type": "stream",
     "text": [
      "0    (12.155, 15.098]\n",
      "1     (9.213, 12.155]\n",
      "2      (3.329, 6.271]\n",
      "3     (9.213, 12.155]\n",
      "4     (9.213, 12.155]\n",
      "Name: normal_cat, dtype: category\n",
      "Categories (6, interval[float64]): [(0.369, 3.329] < (3.329, 6.271] < (6.271, 9.213] < (9.213, 12.155] < (12.155, 15.098] < (15.098, 18.04]]\n"
     ]
    }
   ],
   "source": [
    "print(df['normal_cat'].head())"
   ]
  },
  {
   "cell_type": "markdown",
   "metadata": {},
   "source": [
    "# Using custom bins\n",
    "The cut points created above might not be what we want, and in some situations we would like to bin the data using custom bins. For this we create a Numpy array with the bins we want to use. In this case we create 6 different categories:"
   ]
  },
  {
   "cell_type": "code",
   "execution_count": 46,
   "metadata": {},
   "outputs": [],
   "source": [
    "custom_bins_array = np.linspace(0, 20, 6)"
   ]
  },
  {
   "cell_type": "markdown",
   "metadata": {},
   "source": [
    "Let's bin `df['normal']` with this new `custom_bins_array`:"
   ]
  },
  {
   "cell_type": "code",
   "execution_count": 47,
   "metadata": {},
   "outputs": [],
   "source": [
    "df['normal_cat']=pd.cut(df['normal'], custom_bins_array)"
   ]
  },
  {
   "cell_type": "code",
   "execution_count": 48,
   "metadata": {},
   "outputs": [
    {
     "name": "stdout",
     "output_type": "stream",
     "text": [
      "0    (12.0, 16.0]\n",
      "1    (12.0, 16.0]\n",
      "2      (4.0, 8.0]\n",
      "3     (8.0, 12.0]\n",
      "4     (8.0, 12.0]\n",
      "Name: normal_cat, dtype: category\n",
      "Categories (5, interval[float64]): [(0.0, 4.0] < (4.0, 8.0] < (8.0, 12.0] < (12.0, 16.0] < (16.0, 20.0]]\n"
     ]
    }
   ],
   "source": [
    "print(df['normal_cat'].head())"
   ]
  },
  {
   "cell_type": "markdown",
   "metadata": {},
   "source": [
    "We can create a bar plot for this new `normal_cat` variable:"
   ]
  },
  {
   "cell_type": "code",
   "execution_count": 49,
   "metadata": {},
   "outputs": [
    {
     "data": {
      "image/png": "[encoded data removed]",
      "text/plain": [
       "<matplotlib.figure.Figure at 0x119f50390>"
      ]
     },
     "metadata": {},
     "output_type": "display_data"
    }
   ],
   "source": [
    "import seaborn as sns\n",
    "\n",
    "ax = sns.countplot(x=\"normal_cat\", data=df)"
   ]
  },
  {
   "cell_type": "code",
   "execution_count": null,
   "metadata": {},
   "outputs": [],
   "source": []
  }
 ],
 "metadata": {
  "kernelspec": {
   "display_name": "Python 3",
   "language": "python",
   "name": "python3"
  },
  "language_info": {
   "codemirror_mode": {
    "name": "ipython",
    "version": 3
   },
   "file_extension": ".py",
   "mimetype": "text/x-python",
   "name": "python",
   "nbconvert_exporter": "python",
   "pygments_lexer": "ipython3",
   "version": "3.5.3"
  },
  "toc": {
   "nav_menu": {},
   "number_sections": true,
   "sideBar": true,
   "skip_h1_title": false,
   "title_cell": "Table of Contents",
   "title_sidebar": "Contents",
   "toc_cell": false,
   "toc_position": {},
   "toc_section_display": true,
   "toc_window_display": false
  }
 },
 "nbformat": 4,
 "nbformat_minor": 2
}
