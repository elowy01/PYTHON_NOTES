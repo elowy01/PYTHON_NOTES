{
 "cells": [
  {
   "cell_type": "markdown",
   "metadata": {},
   "source": [
    "Save a figure in seaborn"
   ]
  },
  {
   "cell_type": "markdown",
   "metadata": {},
   "source": [
    "from matplotlib import pyplot as plt\n",
    "import seaborn as sns\n",
    "\n",
    "fig, ax = plt.subplots(figsize=(6, 4), dpi=200)\n",
    "\n",
    "sns.boxplot(y=df_snps[\"ppv\"], ax=ax)\n",
    "plt.savefig('ppv_snps.png')"
   ]
  },
  {
   "cell_type": "raw",
   "metadata": {},
   "source": [
    "# Changing font size\n",
    "sns.set(font_scale=5)  # crazy big"
   ]
  }
 ],
 "metadata": {
  "kernelspec": {
   "display_name": "Python 3",
   "language": "python",
   "name": "python3"
  },
  "language_info": {
   "codemirror_mode": {
    "name": "ipython",
    "version": 3
   },
   "file_extension": ".py",
   "mimetype": "text/x-python",
   "name": "python",
   "nbconvert_exporter": "python",
   "pygments_lexer": "ipython3",
   "version": "3.7.4"
  }
 },
 "nbformat": 4,
 "nbformat_minor": 2
}
