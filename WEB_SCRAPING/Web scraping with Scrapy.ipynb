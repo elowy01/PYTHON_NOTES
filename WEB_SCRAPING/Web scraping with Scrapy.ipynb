{
 "cells": [
  {
   "cell_type": "markdown",
   "metadata": {},
   "source": [
    "# Intro\n",
    "\n",
    "This Notebook describes how to use Scrapy https://scrapy.org/ framework to scrape the Web. As a test case, I will show how to parse the job search website named http://www.jobs.ac.uk/ \n",
    "\n",
    "# Preparation\n",
    "\n",
    "First, create a conda environment for the task described in this notebook:"
   ]
  },
  {
   "cell_type": "markdown",
   "metadata": {},
   "source": [
    "`conda create --name webscraping_proj python=3`"
   ]
  },
  {
   "cell_type": "markdown",
   "metadata": {},
   "source": [
    "To install Scrapy, I use conda:<br>"
   ]
  },
  {
   "cell_type": "markdown",
   "metadata": {},
   "source": [
    "`conda install -c conda-forge scrapy`"
   ]
  },
  {
   "cell_type": "markdown",
   "metadata": {},
   "source": [
    "# Scrapy shell\n",
    "Normally, is quite useful to use the Scrapy shell in order to experiment and run a crawler on a website. So, start the shell by doing:"
   ]
  },
  {
   "cell_type": "markdown",
   "metadata": {},
   "source": [
    "`scrapy shell`"
   ]
  },
  {
   "cell_type": "markdown",
   "metadata": {},
   "source": [
    "Now, let's run the crawler on http://www.jobs.ac.uk/"
   ]
  },
  {
   "cell_type": "markdown",
   "metadata": {},
   "source": [
    "`>>> fetch(\"http://www.jobs.ac.uk/\")`"
   ]
  },
  {
   "cell_type": "markdown",
   "metadata": {},
   "source": [
    "And we see what we have fetched by doing"
   ]
  },
  {
   "cell_type": "markdown",
   "metadata": {},
   "source": [
    "`>>> view(response)`"
   ]
  },
  {
   "cell_type": "markdown",
   "metadata": {},
   "source": [
    "A new window in the browser will open with the contents of the website.<br>\n",
    "Now, I we want to see the raw content of the site, we do:"
   ]
  },
  {
   "cell_type": "markdown",
   "metadata": {},
   "source": [
    "`>>> print response`"
   ]
  }
 ],
 "metadata": {
  "kernelspec": {
   "display_name": "Python 3",
   "language": "python",
   "name": "python3"
  },
  "language_info": {
   "codemirror_mode": {
    "name": "ipython",
    "version": 3
   },
   "file_extension": ".py",
   "mimetype": "text/x-python",
   "name": "python",
   "nbconvert_exporter": "python",
   "pygments_lexer": "ipython3",
   "version": "3.5.3"
  },
  "toc": {
   "nav_menu": {},
   "number_sections": true,
   "sideBar": true,
   "skip_h1_title": false,
   "title_cell": "Table of Contents",
   "title_sidebar": "Contents",
   "toc_cell": false,
   "toc_position": {},
   "toc_section_display": true,
   "toc_window_display": false
  }
 },
 "nbformat": 4,
 "nbformat_minor": 2
}
